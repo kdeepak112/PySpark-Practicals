{
 "cells": [
  {
   "cell_type": "code",
   "execution_count": 1,
   "id": "6f0bec40-0015-4ac5-b593-1244c438a981",
   "metadata": {},
   "outputs": [],
   "source": [
    "import pyspark"
   ]
  },
  {
   "cell_type": "code",
   "execution_count": 12,
   "id": "7a96f656",
   "metadata": {},
   "outputs": [
    {
     "data": {
      "text/plain": [
       "<module 'pyspark.version' from 'd:\\\\Spark\\\\venv\\\\Lib\\\\site-packages\\\\pyspark\\\\version.py'>"
      ]
     },
     "execution_count": 12,
     "metadata": {},
     "output_type": "execute_result"
    }
   ],
   "source": [
    "pyspark.version"
   ]
  },
  {
   "cell_type": "code",
   "execution_count": 2,
   "id": "633dc6df-e4d7-4ebb-8860-53fec5a3b045",
   "metadata": {},
   "outputs": [
    {
     "name": "stdout",
     "output_type": "stream",
     "text": [
      "food_consumption.csv\n",
      "spark-practicals-1.ipynb\n",
      "spark-practicals-2.ipynb\n"
     ]
    }
   ],
   "source": [
    "!ls"
   ]
  },
  {
   "cell_type": "code",
   "execution_count": 2,
   "id": "c69ca02e-b706-4bd0-bc26-d0890ed305df",
   "metadata": {},
   "outputs": [],
   "source": [
    "from pyspark.sql import SparkSession"
   ]
  },
  {
   "cell_type": "code",
   "execution_count": 3,
   "id": "e42e410a-67f8-4a8b-a4f3-04711fed2949",
   "metadata": {},
   "outputs": [],
   "source": [
    "spark = SparkSession.builder.appName('spark-pract').getOrCreate()"
   ]
  },
  {
   "cell_type": "code",
   "execution_count": 4,
   "id": "f73f2241-437c-444a-97b1-ffd3c7753453",
   "metadata": {},
   "outputs": [
    {
     "data": {
      "text/html": [
       "\n",
       "            <div>\n",
       "                <p><b>SparkSession - in-memory</b></p>\n",
       "                \n",
       "        <div>\n",
       "            <p><b>SparkContext</b></p>\n",
       "\n",
       "            <p><a href=\"http://LAPTOP-7NUD38HF:4040\">Spark UI</a></p>\n",
       "\n",
       "            <dl>\n",
       "              <dt>Version</dt>\n",
       "                <dd><code>v4.0.0</code></dd>\n",
       "              <dt>Master</dt>\n",
       "                <dd><code>local[*]</code></dd>\n",
       "              <dt>AppName</dt>\n",
       "                <dd><code>spark-pract</code></dd>\n",
       "            </dl>\n",
       "        </div>\n",
       "        \n",
       "            </div>\n",
       "        "
      ],
      "text/plain": [
       "<pyspark.sql.session.SparkSession at 0x26f0e18ec50>"
      ]
     },
     "execution_count": 4,
     "metadata": {},
     "output_type": "execute_result"
    }
   ],
   "source": [
    "spark"
   ]
  },
  {
   "cell_type": "code",
   "execution_count": 5,
   "id": "7bad921f-4afb-4cd4-b3da-0b78e6aa67f3",
   "metadata": {},
   "outputs": [],
   "source": [
    "df_spark = spark.read.csv('food_consumption.csv')"
   ]
  },
  {
   "cell_type": "code",
   "execution_count": 6,
   "id": "0d309e66-090a-4ca5-8bf9-8dd4f2ef2d7d",
   "metadata": {},
   "outputs": [
    {
     "name": "stdout",
     "output_type": "stream",
     "text": [
      "+---------+--------------------+-----------+-------------+\n",
      "|      _c0|                 _c1|        _c2|          _c3|\n",
      "+---------+--------------------+-----------+-------------+\n",
      "|  country|       food_category|consumption|co2_emmission|\n",
      "|Argentina|                Pork|      10.51|         37.2|\n",
      "|Argentina|             Poultry|      38.66|        41.53|\n",
      "|Argentina|                Beef|      55.48|         1712|\n",
      "|Argentina|         Lamb & Goat|       1.56|        54.63|\n",
      "|Argentina|                Fish|       4.36|         6.96|\n",
      "|Argentina|                Eggs|      11.39|        10.46|\n",
      "|Argentina|  Milk - inc. cheese|     195.08|       277.87|\n",
      "|Argentina|Wheat and Wheat P...|     103.11|        19.66|\n",
      "|Argentina|                Rice|       8.77|        11.22|\n",
      "|Argentina|            Soybeans|          0|            0|\n",
      "|Argentina|Nuts inc. Peanut ...|       0.49|         0.87|\n",
      "|Australia|                Pork|      24.14|        85.44|\n",
      "|Australia|             Poultry|      46.12|        49.54|\n",
      "|Australia|                Beef|      33.86|      1044.85|\n",
      "|Australia|         Lamb & Goat|       9.87|       345.65|\n",
      "|Australia|                Fish|      17.69|        28.25|\n",
      "|Australia|                Eggs|       8.51|         7.82|\n",
      "|Australia|  Milk - inc. cheese|     234.49|       334.01|\n",
      "|Australia|Wheat and Wheat P...|      70.46|        13.44|\n",
      "+---------+--------------------+-----------+-------------+\n",
      "only showing top 20 rows\n"
     ]
    }
   ],
   "source": [
    "df_spark.show()"
   ]
  },
  {
   "cell_type": "code",
   "execution_count": 7,
   "id": "73c0ed99-5037-428a-a3d1-149d6d8dd20e",
   "metadata": {},
   "outputs": [],
   "source": [
    "df_pyspark = spark.read.option('header','true').csv('food_consumption.csv',inferSchema=True)"
   ]
  },
  {
   "cell_type": "code",
   "execution_count": 8,
   "id": "8621c5e7-150a-4f3d-85a0-5634fa6b6af9",
   "metadata": {},
   "outputs": [
    {
     "name": "stdout",
     "output_type": "stream",
     "text": [
      "+---------+--------------------+-----------+-------------+\n",
      "|  country|       food_category|consumption|co2_emmission|\n",
      "+---------+--------------------+-----------+-------------+\n",
      "|Argentina|                Pork|      10.51|         37.2|\n",
      "|Argentina|             Poultry|      38.66|        41.53|\n",
      "|Argentina|                Beef|      55.48|       1712.0|\n",
      "|Argentina|         Lamb & Goat|       1.56|        54.63|\n",
      "|Argentina|                Fish|       4.36|         6.96|\n",
      "|Argentina|                Eggs|      11.39|        10.46|\n",
      "|Argentina|  Milk - inc. cheese|     195.08|       277.87|\n",
      "|Argentina|Wheat and Wheat P...|     103.11|        19.66|\n",
      "|Argentina|                Rice|       8.77|        11.22|\n",
      "|Argentina|            Soybeans|        0.0|          0.0|\n",
      "|Argentina|Nuts inc. Peanut ...|       0.49|         0.87|\n",
      "|Australia|                Pork|      24.14|        85.44|\n",
      "|Australia|             Poultry|      46.12|        49.54|\n",
      "|Australia|                Beef|      33.86|      1044.85|\n",
      "|Australia|         Lamb & Goat|       9.87|       345.65|\n",
      "|Australia|                Fish|      17.69|        28.25|\n",
      "|Australia|                Eggs|       8.51|         7.82|\n",
      "|Australia|  Milk - inc. cheese|     234.49|       334.01|\n",
      "|Australia|Wheat and Wheat P...|      70.46|        13.44|\n",
      "|Australia|                Rice|      11.03|        14.12|\n",
      "+---------+--------------------+-----------+-------------+\n",
      "only showing top 20 rows\n"
     ]
    }
   ],
   "source": [
    "df_pyspark.show()"
   ]
  },
  {
   "cell_type": "code",
   "execution_count": 13,
   "id": "47e206d7-945f-4c88-b3d7-a72998c79df9",
   "metadata": {},
   "outputs": [
    {
     "name": "stdout",
     "output_type": "stream",
     "text": [
      "root\n",
      " |-- country: string (nullable = true)\n",
      " |-- food_category: string (nullable = true)\n",
      " |-- consumption: double (nullable = true)\n",
      " |-- co2_emmission: double (nullable = true)\n",
      "\n"
     ]
    }
   ],
   "source": [
    "#CHECKING THE SCHEMA\n",
    "df_pyspark.printSchema()"
   ]
  },
  {
   "cell_type": "code",
   "execution_count": 14,
   "id": "01014586-d0c1-4d3e-9092-4314c87e82c1",
   "metadata": {},
   "outputs": [],
   "source": [
    "df_spark = spark.read.csv('food_consumption.csv',header=True,inferSchema=True)"
   ]
  },
  {
   "cell_type": "code",
   "execution_count": 15,
   "id": "e9f898fa-f2b4-4b1b-8184-0ae662035f82",
   "metadata": {},
   "outputs": [
    {
     "name": "stdout",
     "output_type": "stream",
     "text": [
      "+---------+--------------------+-----------+-------------+\n",
      "|  country|       food_category|consumption|co2_emmission|\n",
      "+---------+--------------------+-----------+-------------+\n",
      "|Argentina|                Pork|      10.51|         37.2|\n",
      "|Argentina|             Poultry|      38.66|        41.53|\n",
      "|Argentina|                Beef|      55.48|       1712.0|\n",
      "|Argentina|         Lamb & Goat|       1.56|        54.63|\n",
      "|Argentina|                Fish|       4.36|         6.96|\n",
      "|Argentina|                Eggs|      11.39|        10.46|\n",
      "|Argentina|  Milk - inc. cheese|     195.08|       277.87|\n",
      "|Argentina|Wheat and Wheat P...|     103.11|        19.66|\n",
      "|Argentina|                Rice|       8.77|        11.22|\n",
      "|Argentina|            Soybeans|        0.0|          0.0|\n",
      "|Argentina|Nuts inc. Peanut ...|       0.49|         0.87|\n",
      "|Australia|                Pork|      24.14|        85.44|\n",
      "|Australia|             Poultry|      46.12|        49.54|\n",
      "|Australia|                Beef|      33.86|      1044.85|\n",
      "|Australia|         Lamb & Goat|       9.87|       345.65|\n",
      "|Australia|                Fish|      17.69|        28.25|\n",
      "|Australia|                Eggs|       8.51|         7.82|\n",
      "|Australia|  Milk - inc. cheese|     234.49|       334.01|\n",
      "|Australia|Wheat and Wheat P...|      70.46|        13.44|\n",
      "|Australia|                Rice|      11.03|        14.12|\n",
      "+---------+--------------------+-----------+-------------+\n",
      "only showing top 20 rows\n"
     ]
    }
   ],
   "source": [
    "df_spark.show()"
   ]
  },
  {
   "cell_type": "code",
   "execution_count": 16,
   "id": "0c794394-91c2-47ed-bbdc-737c96550bbf",
   "metadata": {},
   "outputs": [
    {
     "name": "stdout",
     "output_type": "stream",
     "text": [
      "root\n",
      " |-- country: string (nullable = true)\n",
      " |-- food_category: string (nullable = true)\n",
      " |-- consumption: double (nullable = true)\n",
      " |-- co2_emmission: double (nullable = true)\n",
      "\n"
     ]
    }
   ],
   "source": [
    "df_spark.printSchema()"
   ]
  },
  {
   "cell_type": "code",
   "execution_count": 17,
   "id": "2dbc34e3-5481-4925-81a1-cd458d2a08e4",
   "metadata": {},
   "outputs": [
    {
     "data": {
      "text/plain": [
       "pyspark.sql.classic.dataframe.DataFrame"
      ]
     },
     "execution_count": 17,
     "metadata": {},
     "output_type": "execute_result"
    }
   ],
   "source": [
    "type(df_spark)"
   ]
  },
  {
   "cell_type": "code",
   "execution_count": 18,
   "id": "8588db03-859a-4294-82c4-74cd663dde2b",
   "metadata": {},
   "outputs": [
    {
     "data": {
      "text/plain": [
       "['country', 'food_category', 'consumption', 'co2_emmission']"
      ]
     },
     "execution_count": 18,
     "metadata": {},
     "output_type": "execute_result"
    }
   ],
   "source": [
    "df_spark.columns"
   ]
  },
  {
   "cell_type": "code",
   "execution_count": 19,
   "id": "4ed65551-c09a-4963-aa3f-7e51da326fa8",
   "metadata": {},
   "outputs": [
    {
     "name": "stdout",
     "output_type": "stream",
     "text": [
      "+---------+--------------------+\n",
      "|  country|       food_category|\n",
      "+---------+--------------------+\n",
      "|Argentina|                Pork|\n",
      "|Argentina|             Poultry|\n",
      "|Argentina|                Beef|\n",
      "|Argentina|         Lamb & Goat|\n",
      "|Argentina|                Fish|\n",
      "|Argentina|                Eggs|\n",
      "|Argentina|  Milk - inc. cheese|\n",
      "|Argentina|Wheat and Wheat P...|\n",
      "|Argentina|                Rice|\n",
      "|Argentina|            Soybeans|\n",
      "|Argentina|Nuts inc. Peanut ...|\n",
      "|Australia|                Pork|\n",
      "|Australia|             Poultry|\n",
      "|Australia|                Beef|\n",
      "|Australia|         Lamb & Goat|\n",
      "|Australia|                Fish|\n",
      "|Australia|                Eggs|\n",
      "|Australia|  Milk - inc. cheese|\n",
      "|Australia|Wheat and Wheat P...|\n",
      "|Australia|                Rice|\n",
      "+---------+--------------------+\n",
      "only showing top 20 rows\n"
     ]
    }
   ],
   "source": [
    "df_spark.select(['country','food_category']).show()"
   ]
  },
  {
   "cell_type": "code",
   "execution_count": 20,
   "id": "f859e726-f1c9-4baa-940e-d35b391644a9",
   "metadata": {},
   "outputs": [
    {
     "data": {
      "text/plain": [
       "[('country', 'string'),\n",
       " ('food_category', 'string'),\n",
       " ('consumption', 'double'),\n",
       " ('co2_emmission', 'double')]"
      ]
     },
     "execution_count": 20,
     "metadata": {},
     "output_type": "execute_result"
    }
   ],
   "source": [
    "df_spark.dtypes"
   ]
  },
  {
   "cell_type": "code",
   "execution_count": 21,
   "id": "db9e0da4-77d9-4f7f-a9ff-fff3da8aceaa",
   "metadata": {},
   "outputs": [
    {
     "name": "stdout",
     "output_type": "stream",
     "text": [
      "+-------+--------+--------------------+------------------+------------------+\n",
      "|summary| country|       food_category|       consumption|     co2_emmission|\n",
      "+-------+--------+--------------------+------------------+------------------+\n",
      "|  count|    1420|                1420|              1420|              1420|\n",
      "|   mean|    NULL|                NULL|28.138140845070446| 73.88874647887327|\n",
      "| stddev|    NULL|                NULL| 49.96958016488335|150.81477157565985|\n",
      "|    min| Albania|                Beef|               0.0|               0.0|\n",
      "|    max|Zimbabwe|Wheat and Wheat P...|            430.76|            1712.0|\n",
      "+-------+--------+--------------------+------------------+------------------+\n",
      "\n"
     ]
    }
   ],
   "source": [
    "df_spark.describe().show()"
   ]
  },
  {
   "cell_type": "code",
   "execution_count": 22,
   "id": "93ca40cc-5f44-4fb3-bc36-2ea0d43caf9a",
   "metadata": {},
   "outputs": [],
   "source": [
    "# Adding columns in dataframe"
   ]
  },
  {
   "cell_type": "code",
   "execution_count": 23,
   "id": "335c3cc4-c5df-45d7-9f04-a577891dcc6a",
   "metadata": {},
   "outputs": [],
   "source": [
    "df_pyspark = df_spark.withColumn('halved-consumption',df_spark['consumption']/2)"
   ]
  },
  {
   "cell_type": "code",
   "execution_count": 24,
   "id": "56f23115-263d-4307-bb3f-f9f62b88b30e",
   "metadata": {},
   "outputs": [
    {
     "name": "stdout",
     "output_type": "stream",
     "text": [
      "+---------+--------------------+-----------+-------------+------------------+\n",
      "|  country|       food_category|consumption|co2_emmission|halved-consumption|\n",
      "+---------+--------------------+-----------+-------------+------------------+\n",
      "|Argentina|                Pork|      10.51|         37.2|             5.255|\n",
      "|Argentina|             Poultry|      38.66|        41.53|             19.33|\n",
      "|Argentina|                Beef|      55.48|       1712.0|             27.74|\n",
      "|Argentina|         Lamb & Goat|       1.56|        54.63|              0.78|\n",
      "|Argentina|                Fish|       4.36|         6.96|              2.18|\n",
      "|Argentina|                Eggs|      11.39|        10.46|             5.695|\n",
      "|Argentina|  Milk - inc. cheese|     195.08|       277.87|             97.54|\n",
      "|Argentina|Wheat and Wheat P...|     103.11|        19.66|            51.555|\n",
      "|Argentina|                Rice|       8.77|        11.22|             4.385|\n",
      "|Argentina|            Soybeans|        0.0|          0.0|               0.0|\n",
      "|Argentina|Nuts inc. Peanut ...|       0.49|         0.87|             0.245|\n",
      "|Australia|                Pork|      24.14|        85.44|             12.07|\n",
      "|Australia|             Poultry|      46.12|        49.54|             23.06|\n",
      "|Australia|                Beef|      33.86|      1044.85|             16.93|\n",
      "|Australia|         Lamb & Goat|       9.87|       345.65|             4.935|\n",
      "|Australia|                Fish|      17.69|        28.25|             8.845|\n",
      "|Australia|                Eggs|       8.51|         7.82|             4.255|\n",
      "|Australia|  Milk - inc. cheese|     234.49|       334.01|           117.245|\n",
      "|Australia|Wheat and Wheat P...|      70.46|        13.44|             35.23|\n",
      "|Australia|                Rice|      11.03|        14.12|             5.515|\n",
      "+---------+--------------------+-----------+-------------+------------------+\n",
      "only showing top 20 rows\n"
     ]
    }
   ],
   "source": [
    "df_pyspark.show()"
   ]
  },
  {
   "cell_type": "code",
   "execution_count": 25,
   "id": "3fb7c759-1f86-488f-8d9b-4c00d66f2745",
   "metadata": {},
   "outputs": [],
   "source": [
    "df_pyspark = df_pyspark.drop('halved-consumption')"
   ]
  },
  {
   "cell_type": "code",
   "execution_count": 26,
   "id": "c4f7c9d9-ab76-480a-a64d-ca8eb0af95fe",
   "metadata": {},
   "outputs": [
    {
     "name": "stdout",
     "output_type": "stream",
     "text": [
      "+---------+--------------------+--------+-------------+\n",
      "|  country|       food_category|consumed|co2_emmission|\n",
      "+---------+--------------------+--------+-------------+\n",
      "|Argentina|                Pork|   10.51|         37.2|\n",
      "|Argentina|             Poultry|   38.66|        41.53|\n",
      "|Argentina|                Beef|   55.48|       1712.0|\n",
      "|Argentina|         Lamb & Goat|    1.56|        54.63|\n",
      "|Argentina|                Fish|    4.36|         6.96|\n",
      "|Argentina|                Eggs|   11.39|        10.46|\n",
      "|Argentina|  Milk - inc. cheese|  195.08|       277.87|\n",
      "|Argentina|Wheat and Wheat P...|  103.11|        19.66|\n",
      "|Argentina|                Rice|    8.77|        11.22|\n",
      "|Argentina|            Soybeans|     0.0|          0.0|\n",
      "|Argentina|Nuts inc. Peanut ...|    0.49|         0.87|\n",
      "|Australia|                Pork|   24.14|        85.44|\n",
      "|Australia|             Poultry|   46.12|        49.54|\n",
      "|Australia|                Beef|   33.86|      1044.85|\n",
      "|Australia|         Lamb & Goat|    9.87|       345.65|\n",
      "|Australia|                Fish|   17.69|        28.25|\n",
      "|Australia|                Eggs|    8.51|         7.82|\n",
      "|Australia|  Milk - inc. cheese|  234.49|       334.01|\n",
      "|Australia|Wheat and Wheat P...|   70.46|        13.44|\n",
      "|Australia|                Rice|   11.03|        14.12|\n",
      "+---------+--------------------+--------+-------------+\n",
      "only showing top 20 rows\n"
     ]
    }
   ],
   "source": [
    "# Renaming the Column\n",
    "df_pyspark.withColumnRenamed('consumption','consumed').show()"
   ]
  },
  {
   "cell_type": "code",
   "execution_count": null,
   "id": "45fd01cf-0b0d-4a4d-958b-3353ad760312",
   "metadata": {},
   "outputs": [],
   "source": []
  },
  {
   "cell_type": "code",
   "execution_count": null,
   "id": "605839c4",
   "metadata": {},
   "outputs": [],
   "source": []
  }
 ],
 "metadata": {
  "kernelspec": {
   "display_name": "venv",
   "language": "python",
   "name": "python3"
  },
  "language_info": {
   "codemirror_mode": {
    "name": "ipython",
    "version": 3
   },
   "file_extension": ".py",
   "mimetype": "text/x-python",
   "name": "python",
   "nbconvert_exporter": "python",
   "pygments_lexer": "ipython3",
   "version": "3.11.7"
  }
 },
 "nbformat": 4,
 "nbformat_minor": 5
}
