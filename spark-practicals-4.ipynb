{
 "cells": [
  {
   "cell_type": "code",
   "execution_count": 1,
   "id": "f01363ff",
   "metadata": {},
   "outputs": [],
   "source": [
    "import pyspark"
   ]
  },
  {
   "cell_type": "code",
   "execution_count": 2,
   "id": "c5f83a00",
   "metadata": {},
   "outputs": [],
   "source": [
    "from pyspark.sql import SparkSession"
   ]
  },
  {
   "cell_type": "code",
   "execution_count": 3,
   "id": "3daa5344",
   "metadata": {},
   "outputs": [],
   "source": [
    "spark = SparkSession.builder.appName('spark-pract').getOrCreate()"
   ]
  },
  {
   "cell_type": "code",
   "execution_count": 4,
   "id": "74caaec6",
   "metadata": {},
   "outputs": [],
   "source": [
    "df_spark = spark.read.csv('food_consumption.csv',header=True,inferSchema=True)"
   ]
  },
  {
   "cell_type": "code",
   "execution_count": 6,
   "id": "47b1a5ba",
   "metadata": {},
   "outputs": [
    {
     "name": "stdout",
     "output_type": "stream",
     "text": [
      "+---------+--------------------+-----------+-------------+\n",
      "|  country|       food_category|consumption|co2_emmission|\n",
      "+---------+--------------------+-----------+-------------+\n",
      "|Argentina|                Pork|      10.51|         37.2|\n",
      "|Argentina|             Poultry|      38.66|        41.53|\n",
      "|Argentina|                Beef|      55.48|       1712.0|\n",
      "|Argentina|         Lamb & Goat|       1.56|        54.63|\n",
      "|Argentina|                Fish|       4.36|         6.96|\n",
      "|Argentina|                Eggs|      11.39|        10.46|\n",
      "|Argentina|  Milk - inc. cheese|     195.08|       277.87|\n",
      "|Argentina|Wheat and Wheat P...|     103.11|        19.66|\n",
      "|Argentina|                Rice|       8.77|        11.22|\n",
      "|Argentina|            Soybeans|        0.0|          0.0|\n",
      "|Argentina|Nuts inc. Peanut ...|       0.49|         0.87|\n",
      "|Australia|                Pork|      24.14|        85.44|\n",
      "|Australia|             Poultry|      46.12|        49.54|\n",
      "|Australia|                Beef|      33.86|      1044.85|\n",
      "|Australia|         Lamb & Goat|       9.87|       345.65|\n",
      "|Australia|                Fish|      17.69|        28.25|\n",
      "|Australia|                Eggs|       8.51|         7.82|\n",
      "|Australia|  Milk - inc. cheese|     234.49|       334.01|\n",
      "|Australia|Wheat and Wheat P...|      70.46|        13.44|\n",
      "|Australia|                Rice|      11.03|        14.12|\n",
      "+---------+--------------------+-----------+-------------+\n",
      "only showing top 20 rows\n"
     ]
    }
   ],
   "source": [
    "df_spark.show()"
   ]
  },
  {
   "cell_type": "code",
   "execution_count": 7,
   "id": "cce26a23",
   "metadata": {},
   "outputs": [
    {
     "name": "stdout",
     "output_type": "stream",
     "text": [
      "root\n",
      " |-- country: string (nullable = true)\n",
      " |-- food_category: string (nullable = true)\n",
      " |-- consumption: double (nullable = true)\n",
      " |-- co2_emmission: double (nullable = true)\n",
      "\n"
     ]
    }
   ],
   "source": [
    "df_spark.printSchema()"
   ]
  },
  {
   "cell_type": "code",
   "execution_count": 8,
   "id": "3144e0c8",
   "metadata": {},
   "outputs": [
    {
     "name": "stdout",
     "output_type": "stream",
     "text": [
      "+--------------------+------------------+------------------+\n",
      "|             country|  sum(consumption)|sum(co2_emmission)|\n",
      "+--------------------+------------------+------------------+\n",
      "|              Russia|            408.73|           1007.66|\n",
      "|            Paraguay|            189.17|            876.67|\n",
      "|             Senegal|            169.67|469.42999999999995|\n",
      "|              Sweden| 550.0000000000001|1527.0300000000002|\n",
      "|         Philippines|227.79000000000002|455.28000000000003|\n",
      "|            Malaysia|282.73999999999995|            554.64|\n",
      "|                Fiji|252.52000000000004| 716.0899999999998|\n",
      "|Hong Kong SAR. China|            321.28|           1267.44|\n",
      "|              Turkey|            433.21| 897.0099999999999|\n",
      "|              Malawi| 50.99999999999999|            207.94|\n",
      "|             Germany| 461.0999999999999|           1066.29|\n",
      "|            Cambodia|            225.06|452.40999999999997|\n",
      "|            Maldives| 476.3299999999999|            903.46|\n",
      "|              Jordan|            291.42|            587.96|\n",
      "|              Rwanda|40.379999999999995|            181.63|\n",
      "|              France|479.16999999999996|           1420.05|\n",
      "|              Greece|            493.63|1497.2899999999997|\n",
      "|           Sri Lanka|218.76999999999998|            294.46|\n",
      "|             Algeria|364.51000000000005|            707.88|\n",
      "|                Togo| 74.32000000000001|188.08999999999997|\n",
      "+--------------------+------------------+------------------+\n",
      "only showing top 20 rows\n"
     ]
    }
   ],
   "source": [
    "df_spark.groupBy('country').sum().show()\n"
   ]
  },
  {
   "cell_type": "code",
   "execution_count": 9,
   "id": "0fe2888a",
   "metadata": {},
   "outputs": [
    {
     "name": "stdout",
     "output_type": "stream",
     "text": [
      "+--------------------+------------------+------------------+\n",
      "|             country|  avg(consumption)|avg(co2_emmission)|\n",
      "+--------------------+------------------+------------------+\n",
      "|              Russia|37.157272727272726| 91.60545454545455|\n",
      "|            Paraguay|17.197272727272725| 79.69727272727272|\n",
      "|             Senegal|15.424545454545454| 42.67545454545454|\n",
      "|              Sweden| 50.00000000000001| 138.8209090909091|\n",
      "|         Philippines| 20.70818181818182| 41.38909090909091|\n",
      "|            Malaysia| 25.70363636363636| 50.42181818181818|\n",
      "|                Fiji| 22.95636363636364| 65.09909090909089|\n",
      "|Hong Kong SAR. China| 53.54666666666666|            211.24|\n",
      "|              Turkey| 39.38272727272727| 81.54636363636362|\n",
      "|              Malawi| 4.636363636363636|18.903636363636362|\n",
      "|             Germany| 41.91818181818181| 96.93545454545455|\n",
      "|            Cambodia|             20.46|41.128181818181815|\n",
      "|            Maldives| 43.30272727272727| 82.13272727272728|\n",
      "|              Jordan|26.492727272727276| 53.45090909090909|\n",
      "|              Rwanda|3.6709090909090905| 16.51181818181818|\n",
      "|              France|43.560909090909085|129.09545454545454|\n",
      "|              Greece|44.875454545454545| 136.1172727272727|\n",
      "|           Sri Lanka|19.888181818181817|26.769090909090906|\n",
      "|             Algeria| 33.13727272727273| 64.35272727272728|\n",
      "|                Togo| 6.756363636363637|17.099090909090908|\n",
      "+--------------------+------------------+------------------+\n",
      "only showing top 20 rows\n"
     ]
    }
   ],
   "source": [
    "df_spark.groupBy('country').avg().show()\n"
   ]
  },
  {
   "cell_type": "code",
   "execution_count": 11,
   "id": "9577d162",
   "metadata": {},
   "outputs": [
    {
     "name": "stdout",
     "output_type": "stream",
     "text": [
      "+--------------------+------------------+------------------+\n",
      "|       food_category|  sum(consumption)|sum(co2_emmission)|\n",
      "+--------------------+------------------+------------------+\n",
      "|             Poultry|           2708.95|2909.9300000000003|\n",
      "|         Lamb & Goat| 332.9699999999998|          11660.53|\n",
      "|                NULL|              NULL|              NULL|\n",
      "|                Beef| 1545.139999999999| 47679.74999999998|\n",
      "|Nuts inc. Peanut ...| 524.0299999999997| 927.5499999999998|\n",
      "|            Soybeans|109.08000000000001| 49.09000000000001|\n",
      "|                Rice| 3775.290000000001|4831.2699999999995|\n",
      "|                Pork| 2081.330000000001| 7366.899999999999|\n",
      "|                Fish| 2165.930000000001|3458.2700000000004|\n",
      "|Wheat and Wheat P...| 9301.439999999999|1773.7799999999993|\n",
      "|  Milk - inc. cheese|          16350.71|23289.999999999996|\n",
      "|                Eggs|1061.2900000000002| 974.9499999999996|\n",
      "+--------------------+------------------+------------------+\n",
      "\n"
     ]
    }
   ],
   "source": [
    "df_spark.groupBy('food_category').sum().show()\n"
   ]
  },
  {
   "cell_type": "code",
   "execution_count": 12,
   "id": "a375ebb7",
   "metadata": {},
   "outputs": [
    {
     "name": "stdout",
     "output_type": "stream",
     "text": [
      "+------------------+\n",
      "|  avg(consumption)|\n",
      "+------------------+\n",
      "|28.138140845070446|\n",
      "+------------------+\n",
      "\n"
     ]
    }
   ],
   "source": [
    "df_spark.agg({'consumption':'mean'}).show()"
   ]
  },
  {
   "cell_type": "code",
   "execution_count": null,
   "id": "13a318f9",
   "metadata": {},
   "outputs": [],
   "source": []
  }
 ],
 "metadata": {
  "kernelspec": {
   "display_name": "venv",
   "language": "python",
   "name": "python3"
  },
  "language_info": {
   "codemirror_mode": {
    "name": "ipython",
    "version": 3
   },
   "file_extension": ".py",
   "mimetype": "text/x-python",
   "name": "python",
   "nbconvert_exporter": "python",
   "pygments_lexer": "ipython3",
   "version": "3.11.7"
  }
 },
 "nbformat": 4,
 "nbformat_minor": 5
}
