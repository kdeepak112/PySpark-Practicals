{
 "cells": [
  {
   "cell_type": "code",
   "execution_count": 1,
   "id": "e766c098",
   "metadata": {},
   "outputs": [],
   "source": [
    "import pyspark"
   ]
  },
  {
   "cell_type": "code",
   "execution_count": 2,
   "id": "2c8e4b4c",
   "metadata": {},
   "outputs": [],
   "source": [
    "from pyspark.sql import SparkSession"
   ]
  },
  {
   "cell_type": "code",
   "execution_count": 3,
   "id": "f7abb2cd",
   "metadata": {},
   "outputs": [],
   "source": [
    "spark = SparkSession.builder.appName('spark-pract').getOrCreate()"
   ]
  },
  {
   "cell_type": "code",
   "execution_count": 4,
   "id": "6b0de572",
   "metadata": {},
   "outputs": [],
   "source": [
    "df_spark = spark.read.csv('food_consumption.csv',header=True,inferSchema=True)"
   ]
  },
  {
   "cell_type": "code",
   "execution_count": 5,
   "id": "e1c81ee1",
   "metadata": {},
   "outputs": [
    {
     "name": "stdout",
     "output_type": "stream",
     "text": [
      "+---------+--------------------+-----------+-------------+\n",
      "|  country|       food_category|consumption|co2_emmission|\n",
      "+---------+--------------------+-----------+-------------+\n",
      "|Argentina|                Pork|      10.51|         37.2|\n",
      "|Argentina|             Poultry|      38.66|        41.53|\n",
      "|Argentina|                Beef|      55.48|       1712.0|\n",
      "|Argentina|         Lamb & Goat|       1.56|        54.63|\n",
      "|Argentina|                Fish|       4.36|         6.96|\n",
      "|Argentina|                Eggs|      11.39|        10.46|\n",
      "|Argentina|  Milk - inc. cheese|     195.08|       277.87|\n",
      "|Argentina|Wheat and Wheat P...|     103.11|        19.66|\n",
      "|Argentina|                Rice|       8.77|        11.22|\n",
      "|Argentina|            Soybeans|        0.0|          0.0|\n",
      "|Argentina|Nuts inc. Peanut ...|       0.49|         0.87|\n",
      "|Australia|                Pork|      24.14|        85.44|\n",
      "|Australia|             Poultry|      46.12|        49.54|\n",
      "|Australia|                Beef|      33.86|      1044.85|\n",
      "|Australia|         Lamb & Goat|       9.87|       345.65|\n",
      "|Australia|                Fish|      17.69|        28.25|\n",
      "|Australia|                Eggs|       8.51|         7.82|\n",
      "|Australia|  Milk - inc. cheese|     234.49|       334.01|\n",
      "|Australia|Wheat and Wheat P...|      70.46|        13.44|\n",
      "|Australia|                Rice|      11.03|        14.12|\n",
      "+---------+--------------------+-----------+-------------+\n",
      "only showing top 20 rows\n"
     ]
    }
   ],
   "source": [
    "df_spark.show()"
   ]
  },
  {
   "cell_type": "code",
   "execution_count": 6,
   "id": "7fa7553c",
   "metadata": {},
   "outputs": [
    {
     "name": "stdout",
     "output_type": "stream",
     "text": [
      "+---------+--------------------+-----------+-------------+\n",
      "|  country|       food_category|consumption|co2_emmission|\n",
      "+---------+--------------------+-----------+-------------+\n",
      "|Argentina|                Pork|      10.51|         37.2|\n",
      "|Argentina|             Poultry|      38.66|        41.53|\n",
      "|Argentina|         Lamb & Goat|       1.56|        54.63|\n",
      "|Argentina|                Fish|       4.36|         6.96|\n",
      "|Argentina|                Eggs|      11.39|        10.46|\n",
      "|Argentina|                Rice|       8.77|        11.22|\n",
      "|Argentina|            Soybeans|        0.0|          0.0|\n",
      "|Argentina|Nuts inc. Peanut ...|       0.49|         0.87|\n",
      "|Australia|                Pork|      24.14|        85.44|\n",
      "|Australia|                Beef|      33.86|      1044.85|\n",
      "|Australia|         Lamb & Goat|       9.87|       345.65|\n",
      "|Australia|                Fish|      17.69|        28.25|\n",
      "|Australia|                Eggs|       8.51|         7.82|\n",
      "|Australia|                Rice|      11.03|        14.12|\n",
      "|Australia|            Soybeans|       0.19|         0.09|\n",
      "|Australia|Nuts inc. Peanut ...|       8.73|        15.45|\n",
      "|  Albania|                Pork|      10.88|        38.51|\n",
      "|  Albania|             Poultry|      13.23|        14.21|\n",
      "|  Albania|                Beef|       22.5|        694.3|\n",
      "|  Albania|         Lamb & Goat|      15.32|        536.5|\n",
      "+---------+--------------------+-----------+-------------+\n",
      "only showing top 20 rows\n"
     ]
    }
   ],
   "source": [
    "#Filter Operations\n",
    "\n",
    "### Salary of the people less than or equal to 20000\n",
    "df_spark.filter(\"consumption<=40\").show()"
   ]
  },
  {
   "cell_type": "code",
   "execution_count": 7,
   "id": "1f354c0b",
   "metadata": {},
   "outputs": [
    {
     "data": {
      "text/plain": [
       "1164"
      ]
     },
     "execution_count": 7,
     "metadata": {},
     "output_type": "execute_result"
    }
   ],
   "source": [
    "df_spark.filter(\"consumption<=40\").count()"
   ]
  },
  {
   "cell_type": "code",
   "execution_count": null,
   "id": "bf7a098a",
   "metadata": {},
   "outputs": [
    {
     "data": {
      "text/plain": [
       "130"
      ]
     },
     "execution_count": 10,
     "metadata": {},
     "output_type": "execute_result"
    }
   ],
   "source": [
    "df_spark.filter(\"food_category='Eggs'\").select(['country']).distinct().count()"
   ]
  },
  {
   "cell_type": "code",
   "execution_count": 12,
   "id": "862ac942",
   "metadata": {},
   "outputs": [
    {
     "data": {
      "text/plain": [
       "778"
      ]
     },
     "execution_count": 12,
     "metadata": {},
     "output_type": "execute_result"
    }
   ],
   "source": [
    "df_spark.filter(df_spark['co2_emmission']<=20.09).count()"
   ]
  },
  {
   "cell_type": "code",
   "execution_count": 14,
   "id": "8ef31a26",
   "metadata": {},
   "outputs": [
    {
     "name": "stdout",
     "output_type": "stream",
     "text": [
      "+-------+--------------------+-----------+-------------+\n",
      "|country|       food_category|consumption|co2_emmission|\n",
      "+-------+--------------------+-----------+-------------+\n",
      "|  India|                Pork|       0.28|         0.99|\n",
      "|  India|             Poultry|       1.88|         2.02|\n",
      "|  India|                Beef|       0.81|        24.99|\n",
      "|  India|         Lamb & Goat|       0.58|        20.31|\n",
      "|  India|                Fish|       4.71|         7.52|\n",
      "|  India|                Eggs|       2.58|         2.37|\n",
      "|  India|  Milk - inc. cheese|       84.5|       120.36|\n",
      "|  India|Wheat and Wheat P...|      60.56|        11.55|\n",
      "|  India|                Rice|      69.49|        88.93|\n",
      "|  India|            Soybeans|       0.39|         0.18|\n",
      "|  India|Nuts inc. Peanut ...|       1.92|          3.4|\n",
      "+-------+--------------------+-----------+-------------+\n",
      "\n"
     ]
    }
   ],
   "source": [
    "df_spark.filter(df_spark['country'].isin('India')).show()"
   ]
  },
  {
   "cell_type": "code",
   "execution_count": 15,
   "id": "03d1c48e",
   "metadata": {},
   "outputs": [
    {
     "data": {
      "text/plain": [
       "844"
      ]
     },
     "execution_count": 15,
     "metadata": {},
     "output_type": "execute_result"
    }
   ],
   "source": [
    "df_spark.filter((df_spark['consumption']<=1) | \n",
    "                  (df_spark['consumption']>=11.9)).count()"
   ]
  },
  {
   "cell_type": "code",
   "execution_count": 18,
   "id": "93cfbbd5",
   "metadata": {},
   "outputs": [
    {
     "data": {
      "text/plain": [
       "29"
      ]
     },
     "execution_count": 18,
     "metadata": {},
     "output_type": "execute_result"
    }
   ],
   "source": [
    "df_spark.filter(~(df_spark['consumption']<=200)).count()\n"
   ]
  },
  {
   "cell_type": "code",
   "execution_count": null,
   "id": "62816fdd",
   "metadata": {},
   "outputs": [],
   "source": []
  }
 ],
 "metadata": {
  "kernelspec": {
   "display_name": "venv",
   "language": "python",
   "name": "python3"
  },
  "language_info": {
   "codemirror_mode": {
    "name": "ipython",
    "version": 3
   },
   "file_extension": ".py",
   "mimetype": "text/x-python",
   "name": "python",
   "nbconvert_exporter": "python",
   "pygments_lexer": "ipython3",
   "version": "3.11.7"
  }
 },
 "nbformat": 4,
 "nbformat_minor": 5
}
