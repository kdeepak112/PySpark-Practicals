{
 "cells": [
  {
   "cell_type": "code",
   "execution_count": 1,
   "id": "e52dc2c3-c028-4231-b9f7-343559c23674",
   "metadata": {},
   "outputs": [],
   "source": [
    "import pyspark"
   ]
  },
  {
   "cell_type": "code",
   "execution_count": 2,
   "id": "02bfc3d3-a4ec-4bc5-80bf-249c0b3cc72b",
   "metadata": {},
   "outputs": [],
   "source": [
    "from pyspark.sql import SparkSession"
   ]
  },
  {
   "cell_type": "code",
   "execution_count": 3,
   "id": "059b45cf-ea60-4303-b24f-1f6604b46821",
   "metadata": {},
   "outputs": [],
   "source": [
    "spark = SparkSession.builder.appName('spark-pract').getOrCreate()"
   ]
  },
  {
   "cell_type": "code",
   "execution_count": 4,
   "id": "08662776-fa7e-4982-b859-1cd30b4cd8e9",
   "metadata": {},
   "outputs": [],
   "source": [
    "df_spark = spark.read.csv('food_consumption.csv',header=True,inferSchema=True)"
   ]
  },
  {
   "cell_type": "code",
   "execution_count": 5,
   "id": "60a00d04-8684-4711-8f82-b594163e2add",
   "metadata": {},
   "outputs": [
    {
     "data": {
      "text/plain": [
       "[Row(country='Argentina', food_category='Pork', consumption=10.51, co2_emmission=37.2),\n",
       " Row(country='Argentina', food_category='Poultry', consumption=38.66, co2_emmission=41.53),\n",
       " Row(country='Argentina', food_category='Beef', consumption=55.48, co2_emmission=1712.0),\n",
       " Row(country='Argentina', food_category='Lamb & Goat', consumption=1.56, co2_emmission=54.63),\n",
       " Row(country='Argentina', food_category='Fish', consumption=4.36, co2_emmission=6.96)]"
      ]
     },
     "execution_count": 5,
     "metadata": {},
     "output_type": "execute_result"
    }
   ],
   "source": [
    "df_spark.head(5)"
   ]
  },
  {
   "cell_type": "code",
   "execution_count": 6,
   "id": "5b36d5fd-9e90-4fba-b251-d4685f980ef3",
   "metadata": {},
   "outputs": [
    {
     "name": "stdout",
     "output_type": "stream",
     "text": [
      "root\n",
      " |-- country: string (nullable = true)\n",
      " |-- food_category: string (nullable = true)\n",
      " |-- consumption: double (nullable = true)\n",
      " |-- co2_emmission: double (nullable = true)\n",
      "\n"
     ]
    }
   ],
   "source": [
    "df_spark.printSchema()"
   ]
  },
  {
   "cell_type": "code",
   "execution_count": 20,
   "id": "e9fdb5aa-918f-4f4d-9579-918e196c6287",
   "metadata": {},
   "outputs": [
    {
     "data": {
      "text/plain": [
       "10"
      ]
     },
     "execution_count": 20,
     "metadata": {},
     "output_type": "execute_result"
    }
   ],
   "source": [
    "null_age_df = df_spark.filter(df_spark.country.isNull())\n",
    "null_age_df.count()"
   ]
  },
  {
   "cell_type": "code",
   "execution_count": 22,
   "id": "f81ae06d-df2d-4c3b-909d-e3a4c728f065",
   "metadata": {},
   "outputs": [
    {
     "name": "stdout",
     "output_type": "stream",
     "text": [
      "+-------+-------------+-----------+-------------+\n",
      "|country|food_category|consumption|co2_emmission|\n",
      "+-------+-------------+-----------+-------------+\n",
      "|   NULL|         NULL|       NULL|         NULL|\n",
      "|   NULL|         NULL|       NULL|         NULL|\n",
      "|   NULL|         NULL|       NULL|         NULL|\n",
      "|   NULL|         NULL|       NULL|         NULL|\n",
      "|   NULL|         NULL|       NULL|         NULL|\n",
      "|   NULL|         NULL|       NULL|         NULL|\n",
      "|   NULL|         NULL|       NULL|         NULL|\n",
      "|   NULL|         NULL|       NULL|         NULL|\n",
      "|   NULL|         NULL|       NULL|         NULL|\n",
      "|   NULL|         NULL|       NULL|         NULL|\n",
      "+-------+-------------+-----------+-------------+\n",
      "\n"
     ]
    }
   ],
   "source": [
    "df_spark.filter(df_spark.country.isNull()).show()"
   ]
  },
  {
   "cell_type": "code",
   "execution_count": 26,
   "id": "c1091b39",
   "metadata": {},
   "outputs": [
    {
     "data": {
      "text/plain": [
       "1430"
      ]
     },
     "execution_count": 26,
     "metadata": {},
     "output_type": "execute_result"
    }
   ],
   "source": [
    "df_spark.count()"
   ]
  },
  {
   "cell_type": "code",
   "execution_count": 25,
   "id": "a23098de-8508-4395-bd3c-12404e4dd611",
   "metadata": {},
   "outputs": [
    {
     "data": {
      "text/plain": [
       "1420"
      ]
     },
     "execution_count": 25,
     "metadata": {},
     "output_type": "execute_result"
    }
   ],
   "source": [
    "df_spark.na.drop().count()"
   ]
  },
  {
   "cell_type": "code",
   "execution_count": 27,
   "id": "0aaff42d-5800-40a8-9472-757877e6eaf6",
   "metadata": {},
   "outputs": [
    {
     "data": {
      "text/plain": [
       "1420"
      ]
     },
     "execution_count": 27,
     "metadata": {},
     "output_type": "execute_result"
    }
   ],
   "source": [
    "### any==how\n",
    "df_spark.na.drop(how=\"all\").count()"
   ]
  },
  {
   "cell_type": "code",
   "execution_count": 29,
   "id": "47e39d68-87e0-465e-bf1e-82862c90c1ab",
   "metadata": {},
   "outputs": [
    {
     "data": {
      "text/plain": [
       "1420"
      ]
     },
     "execution_count": 29,
     "metadata": {},
     "output_type": "execute_result"
    }
   ],
   "source": [
    "##threshold\n",
    "\n",
    "df_spark.na.drop(how=\"any\",thresh=3).count()"
   ]
  },
  {
   "cell_type": "code",
   "execution_count": 30,
   "id": "bc3c1b37-4d6c-4bb1-a59d-43b7ccbf6a38",
   "metadata": {},
   "outputs": [
    {
     "data": {
      "text/plain": [
       "1420"
      ]
     },
     "execution_count": 30,
     "metadata": {},
     "output_type": "execute_result"
    }
   ],
   "source": [
    "df_spark.na.drop(how=\"any\",subset=['country']).count()"
   ]
  },
  {
   "cell_type": "code",
   "execution_count": 13,
   "id": "efe89ac8-9e7e-4bd8-9d8a-c8ffa771c449",
   "metadata": {},
   "outputs": [],
   "source": [
    "#Fill missing values"
   ]
  },
  {
   "cell_type": "code",
   "execution_count": 15,
   "id": "5ff376f1-5bb2-4d4a-b47f-fc59512bc55a",
   "metadata": {},
   "outputs": [],
   "source": [
    "from pyspark.ml.feature import Imputer"
   ]
  },
  {
   "cell_type": "code",
   "execution_count": 16,
   "id": "962d76ed-1694-48af-abe1-2c3bd4bd3a02",
   "metadata": {},
   "outputs": [
    {
     "data": {
      "text/plain": [
       "['country', 'food_category', 'consumption', 'co2_emmission']"
      ]
     },
     "execution_count": 16,
     "metadata": {},
     "output_type": "execute_result"
    }
   ],
   "source": [
    "df_spark.columns"
   ]
  },
  {
   "cell_type": "code",
   "execution_count": 31,
   "id": "186959b4-3368-4a23-a465-259083ba5e99",
   "metadata": {},
   "outputs": [],
   "source": [
    "\n",
    "imputer_median = Imputer(\n",
    "    inputCols=['consumption', 'co2_emmission'],\n",
    "    outputCols=['consumption_imputed', 'co2_emmission_imputed']\n",
    ").setStrategy(\"median\")"
   ]
  },
  {
   "cell_type": "code",
   "execution_count": 32,
   "id": "01935828-668b-4fc9-bf95-9d5bb8efd3ab",
   "metadata": {},
   "outputs": [],
   "source": [
    "from pyspark.sql.functions import col, count, desc\n",
    "\n",
    "# Function to get mode\n",
    "def get_mode(df, col_name):\n",
    "    return df.groupBy(col_name).count().orderBy(desc(\"count\")).first()[0]\n",
    "\n",
    "mode_country = get_mode(df_spark, \"country\")\n",
    "mode_food_category = get_mode(df_spark, \"food_category\")\n"
   ]
  },
  {
   "cell_type": "code",
   "execution_count": 33,
   "id": "6500de61-57c7-475d-9b29-6b9146b60e91",
   "metadata": {},
   "outputs": [
    {
     "data": {
      "text/plain": [
       "('Russia', 'Wheat and Wheat Products')"
      ]
     },
     "execution_count": 33,
     "metadata": {},
     "output_type": "execute_result"
    }
   ],
   "source": [
    "mode_country , mode_food_category"
   ]
  },
  {
   "cell_type": "code",
   "execution_count": 34,
   "id": "ee97a53a-39fe-4303-8081-4b9a0167e5db",
   "metadata": {},
   "outputs": [],
   "source": [
    "df_spark_filled = df_spark.fillna({\n",
    "    \"country\": mode_country,\n",
    "    \"food_category\": mode_food_category\n",
    "})\n"
   ]
  },
  {
   "cell_type": "code",
   "execution_count": 35,
   "id": "0c34692b",
   "metadata": {},
   "outputs": [],
   "source": [
    "df_final = imputer_median.fit(df_spark_filled).transform(df_spark_filled)"
   ]
  },
  {
   "cell_type": "code",
   "execution_count": 37,
   "id": "0c228ded",
   "metadata": {},
   "outputs": [
    {
     "data": {
      "text/plain": [
       "0"
      ]
     },
     "execution_count": 37,
     "metadata": {},
     "output_type": "execute_result"
    }
   ],
   "source": [
    "df_final[df_final.country.isNull()].count()"
   ]
  },
  {
   "cell_type": "code",
   "execution_count": null,
   "id": "87d39c31",
   "metadata": {},
   "outputs": [],
   "source": []
  }
 ],
 "metadata": {
  "kernelspec": {
   "display_name": "venv",
   "language": "python",
   "name": "python3"
  },
  "language_info": {
   "codemirror_mode": {
    "name": "ipython",
    "version": 3
   },
   "file_extension": ".py",
   "mimetype": "text/x-python",
   "name": "python",
   "nbconvert_exporter": "python",
   "pygments_lexer": "ipython3",
   "version": "3.11.7"
  }
 },
 "nbformat": 4,
 "nbformat_minor": 5
}
